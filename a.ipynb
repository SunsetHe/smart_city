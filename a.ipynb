{
 "cells": [
  {
   "cell_type": "code",
   "execution_count": 1,
   "metadata": {
    "collapsed": true,
    "ExecuteTime": {
     "end_time": "2024-12-30T15:09:24.395939200Z",
     "start_time": "2024-12-30T15:09:20.850265800Z"
    }
   },
   "outputs": [],
   "source": [
    "import math\n",
    "import sys\n",
    "import numpy as np\n",
    "from datetime import datetime\n",
    "import os\n",
    "import csv\n",
    "from tqdm import tqdm\n",
    "import re\n",
    "from some_func import util\n",
    "from math import atan, pi, log, tan, exp"
   ]
  },
  {
   "cell_type": "code",
   "execution_count": 2,
   "outputs": [],
   "source": [
    "# 网格类\n",
    "class Grid:\n",
    "    def __init__(self):\n",
    "        self.pickup_points = []  # 位于当前网格的定位点\n",
    "        self.locating_of_grid = [] # 网格的位置，里面所有点的经纬度平均"
   ],
   "metadata": {
    "collapsed": false,
    "ExecuteTime": {
     "end_time": "2024-12-30T15:09:24.403469800Z",
     "start_time": "2024-12-30T15:09:24.394939100Z"
    }
   }
  },
  {
   "cell_type": "code",
   "execution_count": 3,
   "outputs": [],
   "source": [
    "def Distance_of_two_points(pointa,pointb):\n",
    "    pointa_mercator = util.wgs84_to_mercator(pointa[0],pointa[1])\n",
    "    pointb_mercator = util.wgs84_to_mercator(pointb[0],pointb[1])\n",
    "    distance = ((pointa_mercator[0] - pointb_mercator[0]) ** 2 + (pointa_mercator[1] - pointb_mercator[1]) ** 2) ** 0.5\n",
    "    return distance"
   ],
   "metadata": {
    "collapsed": false,
    "ExecuteTime": {
     "end_time": "2024-12-30T15:09:24.410851100Z",
     "start_time": "2024-12-30T15:09:24.399916600Z"
    }
   }
  },
  {
   "cell_type": "code",
   "execution_count": 4,
   "outputs": [],
   "source": [
    "# def wgs84_to_mercator(lon, lat):\n",
    "#     x = lon * 20037508.342789 / 180\n",
    "#     y = log(tan((90 + lat) * pi / 360)) / (pi / 180)\n",
    "#     y = y * 20037508.34789 / 180\n",
    "#     return [x, y]"
   ],
   "metadata": {
    "collapsed": false,
    "ExecuteTime": {
     "end_time": "2024-12-30T15:09:24.410851100Z",
     "start_time": "2024-12-30T15:09:24.405471300Z"
    }
   }
  },
  {
   "cell_type": "code",
   "execution_count": 5,
   "outputs": [],
   "source": [
    "def get_pickup_point(traj_data: dict):\n",
    "    \"\"\"\n",
    "\n",
    "    Args:\n",
    "        traj_data: 轨迹数据\n",
    "\n",
    "\n",
    "    Returns:上下车的点的定位点\n",
    "\n",
    "    \"\"\"\n",
    "    pickup_point_list = []\n",
    "    for key,value in tqdm(traj_data.items()):\n",
    "        # pickup_point_index = []\n",
    "        coordinates = value[1]\n",
    "        status_list = value[2]\n",
    "        for i in range(1,len(coordinates)):\n",
    "            if status_list[i] != status_list[i-1]:\n",
    "                pickup_point_list.append(coordinates[i])\n",
    "\n",
    "    return pickup_point_list"
   ],
   "metadata": {
    "collapsed": false,
    "ExecuteTime": {
     "end_time": "2024-12-30T15:09:24.417889900Z",
     "start_time": "2024-12-30T15:09:24.414383900Z"
    }
   }
  },
  {
   "cell_type": "code",
   "execution_count": 6,
   "outputs": [],
   "source": [
    "def load_data():# data:key->taxi_id,value->[[time],[coordinates(not mercator)],[status]],\n",
    "    data = {}\n",
    "    lon_min = 180\n",
    "    lon_max = 0\n",
    "    lat_min = 90\n",
    "    lat_max = 0\n",
    "\n",
    "    file_need_remove = []\n",
    "    file_need_stay = []\n",
    "    traj_folder = os.path.join(os.getcwd(), \"traj\")\n",
    "    for file_name in tqdm(os.listdir(traj_folder)) :\n",
    "        if file_name.startswith(\"traj_\") and file_name.endswith(\".csv\"):\n",
    "            match = re.search(r\"traj_(\\d+)\\.csv\", file_name)\n",
    "            taxi_id = match.group(1)\n",
    "            file_path = os.path.join(traj_folder, file_name)\n",
    "            # data_illegal_count = 0\n",
    "\n",
    "            time_list = []\n",
    "            coordinates = []\n",
    "            status_list = []\n",
    "\n",
    "            if_use_this_data  = True\n",
    "\n",
    "            with open(file_path, mode='r', encoding='utf-8') as csv_file:\n",
    "                csv_reader = csv.DictReader(csv_file)\n",
    "                for row in csv_reader:\n",
    "                    ID = int(row['ID'])\n",
    "                    time_str = row['Time']\n",
    "                    time = datetime.strptime(time_str, \"%H:%M:%S\").time()  # 转换为 time 对象\n",
    "                    longitude = float(row['Longitude'])\n",
    "                    latitude = float(row['Latitude'])\n",
    "                    status = int(row['Status'])\n",
    "\n",
    "                    # 检测到非法数据就弃用该出租车的数据\n",
    "                    if not (113.75 < longitude < 114.63):\n",
    "                        if_use_this_data  = False\n",
    "                        break\n",
    "                    if not (22.45 < latitude < 22.85):\n",
    "                        if_use_this_data  = False\n",
    "                        break\n",
    "                    if status != 1 and status != 0 :\n",
    "                        if_use_this_data  = False\n",
    "                        break\n",
    "\n",
    "\n",
    "                    time_list.append(time)\n",
    "                    coordinates.append([longitude,latitude])\n",
    "                    status_list.append(status)\n",
    "\n",
    "\n",
    "                    # lon_min = min(lon_min,longitude)\n",
    "                    # lon_max = max(lon_max,longitude)\n",
    "                    # lat_min = min(lat_min,latitude)\n",
    "                    # lat_max = max(lat_max,latitude)\n",
    "\n",
    "                    # data.setdefault(ID, [[], [], []])\n",
    "                    # data[ID][0].append(time)\n",
    "                    # data[ID][1].append([longitude,latitude])\n",
    "                    # data[ID][1].append(util.mercator_to_wgs84(longitude, latitude))\n",
    "                    # data[ID][2].append(status)\n",
    "                    # print(ID)\n",
    "                    # print(time,type(time))\n",
    "                    # print([longitude, latitude])\n",
    "                    # print(status,type(status))\n",
    "                    # print(\"----------------------\")\n",
    "\n",
    "            if if_use_this_data:\n",
    "                data[taxi_id] = [time_list,coordinates,status_list]\n",
    "                lon_min = min(lon_min,min(coord[0] for coord in coordinates))\n",
    "                lon_max = max(lon_max,max(coord[0] for coord in coordinates))\n",
    "                lat_min = min(lat_min,min(coord[1] for coord in coordinates))\n",
    "                lat_max = max(lat_max,max(coord[1] for coord in coordinates))\n",
    "                file_need_stay.append(file_name)\n",
    "            else:\n",
    "                file_need_remove.append(file_name)\n",
    "\n",
    "\n",
    "                # if data_illegal_count > 2:\n",
    "                #     file_need_remove.append(file_name)\n",
    "    outputfile = \"file_need_stay.txt\"\n",
    "    print(len(file_need_stay))\n",
    "    with open(outputfile, mode='w', encoding='utf-8') as f:\n",
    "        for filename in file_need_stay:\n",
    "            f.write(filename + \"\\n\")  # 每个文件名写入一行\n",
    "    outputfile = \"file_need_remove.txt\"\n",
    "    with open(outputfile, mode='w', encoding='utf-8') as f:\n",
    "        for filename in file_need_remove:\n",
    "            f.write(filename + \"\\n\")  # 每个文件名写入一行\n",
    "    return data,[lon_min,lon_max,lat_min,lat_max]"
   ],
   "metadata": {
    "collapsed": false,
    "ExecuteTime": {
     "end_time": "2024-12-30T15:09:24.500235200Z",
     "start_time": "2024-12-30T15:09:24.425892300Z"
    }
   }
  },
  {
   "cell_type": "code",
   "execution_count": 7,
   "outputs": [],
   "source": [
    "# 根据经纬度最大小值以及网格大小确定区域被分为rows*cols数量的网格\n",
    "def get_grids_i_j(x_min_y_min_mercator,x_max_y_max_mercator,grid_size):\n",
    "    x_length = x_max_y_max_mercator[0] - x_min_y_min_mercator[0]\n",
    "    y_length = x_max_y_max_mercator[1] - x_min_y_min_mercator[1]\n",
    "    cols = math.ceil(x_length / grid_size)\n",
    "    rows = math.ceil(y_length / grid_size)\n",
    "    return cols,rows"
   ],
   "metadata": {
    "collapsed": false,
    "ExecuteTime": {
     "end_time": "2024-12-30T15:09:24.501235700Z",
     "start_time": "2024-12-30T15:09:24.432983800Z"
    }
   }
  },
  {
   "cell_type": "code",
   "execution_count": 8,
   "outputs": [],
   "source": [
    "# 获得一个上下车点在区域中所在网格的索引\n",
    "def get_i_j_of_pickup_point(x_min_y_min_mercator,x_max_y_max_mercator,grid_size,pickup_point):\n",
    "    pickup_point_mercator = util.wgs84_to_mercator(pickup_point[0],pickup_point[1])\n",
    "    x_dis = pickup_point_mercator[0] - x_min_y_min_mercator[0]\n",
    "    y_dis = pickup_point_mercator[1] - x_min_y_min_mercator[1]\n",
    "    i = math.floor(x_dis / grid_size)\n",
    "    j = math.floor(y_dis / grid_size)\n",
    "    # 检查边界是否超出区域\n",
    "    if i < 0 or j < 0 or pickup_point_mercator[0] > x_max_y_max_mercator[0] or pickup_point_mercator[1] > x_max_y_max_mercator[1]:\n",
    "        raise ValueError(\"Pickup point is outside the grid region.\")\n",
    "    return i,j"
   ],
   "metadata": {
    "collapsed": false,
    "ExecuteTime": {
     "end_time": "2024-12-30T15:09:24.501235700Z",
     "start_time": "2024-12-30T15:09:24.437489100Z"
    }
   }
  },
  {
   "cell_type": "code",
   "execution_count": 9,
   "outputs": [],
   "source": [
    "def get_Grid_locating_point(grid:Grid):\n",
    "    lon_sum = 0\n",
    "    lat_sum = 0\n",
    "    points = grid.pickup_points\n",
    "    for point in points:\n",
    "        lon_sum += point[0]\n",
    "        lat_sum += point[1]\n",
    "    return [lon_sum/len(points),lat_sum/len(points)]"
   ],
   "metadata": {
    "collapsed": false,
    "ExecuteTime": {
     "end_time": "2024-12-30T15:09:24.501235700Z",
     "start_time": "2024-12-30T15:09:24.442979800Z"
    }
   }
  },
  {
   "cell_type": "code",
   "execution_count": 10,
   "outputs": [
    {
     "name": "stdout",
     "output_type": "stream",
     "text": [
      "26.0\n"
     ]
    }
   ],
   "source": [
    "# 参数\n",
    "\n",
    "# lon经度 lat纬度\n",
    "# x,y mercator\n",
    "\n",
    "\n",
    "k = 20# 网格的大小，单位为米\n",
    "lameda = 20 # 网格密度阈值\n",
    "fai = 1.3 # 定义9里面那个参数\n",
    "limit = fai*k\n",
    "print(limit)"
   ],
   "metadata": {
    "collapsed": false,
    "ExecuteTime": {
     "end_time": "2024-12-30T15:09:24.502235700Z",
     "start_time": "2024-12-30T15:09:24.445887500Z"
    }
   }
  },
  {
   "cell_type": "code",
   "execution_count": 11,
   "outputs": [
    {
     "name": "stderr",
     "output_type": "stream",
     "text": [
      "100%|██████████| 14728/14728 [07:55<00:00, 30.94it/s]"
     ]
    },
    {
     "name": "stdout",
     "output_type": "stream",
     "text": [
      "14093\n",
      "[113.752022, 114.567619, 22.456734, 22.8493]\n"
     ]
    },
    {
     "name": "stderr",
     "output_type": "stream",
     "text": [
      "\n"
     ]
    }
   ],
   "source": [
    "traj_data,district = load_data()\n",
    "print(district)"
   ],
   "metadata": {
    "collapsed": false,
    "ExecuteTime": {
     "end_time": "2024-12-30T15:17:20.538306100Z",
     "start_time": "2024-12-30T15:09:24.453224500Z"
    }
   }
  },
  {
   "cell_type": "code",
   "execution_count": 12,
   "outputs": [],
   "source": [
    "# # 这段是拿来把原本的traj文件夹里面的数据分割成两部分的，不用管\n",
    "#\n",
    "#\n",
    "#\n",
    "#\n",
    "# import os\n",
    "# import shutil\n",
    "#\n",
    "# # 定义路径\n",
    "# current_dir = os.getcwd()  # 获取当前目录\n",
    "# traj_folder = os.path.join(current_dir, \"traj\")\n",
    "# traj_remove_folder = os.path.join(current_dir, \"traj_remove\")\n",
    "# file_need_remove = os.path.join(current_dir, \"file_need_remove.txt\")\n",
    "#\n",
    "# # 创建 traj_remove 文件夹（如果不存在）\n",
    "# if not os.path.exists(traj_remove_folder):\n",
    "#     os.makedirs(traj_remove_folder)\n",
    "#\n",
    "# # 读取 file_need_remove.txt\n",
    "# if os.path.exists(file_need_remove):\n",
    "#     with open(file_need_remove, mode=\"r\", encoding=\"utf-8\") as f:\n",
    "#         filenames = [line.strip() for line in f.readlines() if line.strip()]\n",
    "# else:\n",
    "#     print(f\"文件 {file_need_remove} 不存在！\")\n",
    "#     exit(1)\n",
    "#\n",
    "# # 移动文件\n",
    "# for filename in filenames:\n",
    "#     source_path = os.path.join(traj_folder, filename)\n",
    "#     target_path = os.path.join(traj_remove_folder, filename)\n",
    "#\n",
    "#     if os.path.exists(source_path):\n",
    "#         shutil.move(source_path, target_path)  # 移动文件\n",
    "#         print(f\"已移动: {filename}\")\n",
    "#     else:\n",
    "#         print(f\"文件 {filename} 不存在于 {traj_folder} 中！\")\n",
    "#\n",
    "# print(\"处理完成。\")"
   ],
   "metadata": {
    "collapsed": false,
    "ExecuteTime": {
     "end_time": "2024-12-30T15:17:20.545823800Z",
     "start_time": "2024-12-30T15:17:20.543825400Z"
    }
   }
  },
  {
   "cell_type": "markdown",
   "source": [
    "记录，第一次\n",
    "```\n",
    "if not (113 < longitude < 114.6):\n",
    "    if_use_this_data  = False\n",
    "    break\n",
    "if not (22.1 < latitude < 22.7):\n",
    "    if_use_this_data  = False\n",
    "    break\n",
    "```\n",
    "8975条轨迹被保留\n",
    "5753条轨迹被移除\n",
    "[113.310249, 114.567619, 22.157217, 22.699966]"
   ],
   "metadata": {
    "collapsed": false
   }
  },
  {
   "cell_type": "markdown",
   "source": [
    "记录，第二次\n",
    "```\n",
    "if not (113.4 < longitude < 114.4):\n",
    "    if_use_this_data  = False\n",
    "    break\n",
    "if not (22.15 < latitude < 22.6):\n",
    "    if_use_this_data  = False\n",
    "    break\n",
    "```\n",
    "184条轨迹被保留\n",
    "14544条轨迹被移除\n"
   ],
   "metadata": {
    "collapsed": false
   }
  },
  {
   "cell_type": "markdown",
   "source": [
    "if not (113.75 < longitude < 114.63):\n",
    "    if_use_this_data  = False\n",
    "    break\n",
    "if not (22.45 < latitude < 22.85):\n",
    "    if_use_this_data  = False\n",
    "    break\n",
    "\n"
   ],
   "metadata": {
    "collapsed": false
   }
  },
  {
   "cell_type": "code",
   "execution_count": 13,
   "outputs": [
    {
     "name": "stdout",
     "output_type": "stream",
     "text": [
      "44943691\n"
     ]
    }
   ],
   "source": [
    "count = 0\n",
    "for key,value in traj_data.items():\n",
    "    count += len(value[1])\n",
    "print(count)"
   ],
   "metadata": {
    "collapsed": false,
    "ExecuteTime": {
     "end_time": "2024-12-30T15:17:20.634474300Z",
     "start_time": "2024-12-30T15:17:20.545823800Z"
    }
   }
  },
  {
   "cell_type": "code",
   "execution_count": 14,
   "outputs": [
    {
     "name": "stderr",
     "output_type": "stream",
     "text": [
      "100%|██████████| 14093/14093 [00:03<00:00, 4275.94it/s]"
     ]
    },
    {
     "name": "stdout",
     "output_type": "stream",
     "text": [
      "1040274\n"
     ]
    },
    {
     "name": "stderr",
     "output_type": "stream",
     "text": [
      "\n"
     ]
    }
   ],
   "source": [
    "pickup_points = get_pickup_point(traj_data)\n",
    "\n",
    "\n",
    "\n",
    "# traj_data = []\n",
    "\n",
    "\n",
    "\n",
    "print(len(pickup_points))"
   ],
   "metadata": {
    "collapsed": false,
    "ExecuteTime": {
     "end_time": "2024-12-30T15:17:23.941505400Z",
     "start_time": "2024-12-30T15:17:20.638474800Z"
    }
   }
  },
  {
   "cell_type": "code",
   "execution_count": 14,
   "outputs": [],
   "source": [],
   "metadata": {
    "collapsed": false,
    "ExecuteTime": {
     "end_time": "2024-12-30T15:17:23.943683200Z",
     "start_time": "2024-12-30T15:17:23.941505400Z"
    }
   }
  },
  {
   "cell_type": "code",
   "execution_count": 15,
   "outputs": [
    {
     "name": "stdout",
     "output_type": "stream",
     "text": [
      "113.75502 114.567215 22.459433 22.843834\n"
     ]
    }
   ],
   "source": [
    "# 才发现网格的lon_max啥的是上下车点的lon_max,\n",
    "lon_min = min([pickup_point[0] for pickup_point in pickup_points])\n",
    "lon_max = max([pickup_point[0] for pickup_point in pickup_points])\n",
    "lat_min = min([pickup_point[1] for pickup_point in pickup_points])\n",
    "lat_max = max([pickup_point[1] for pickup_point in pickup_points])\n",
    "print(lon_min,lon_max,lat_min,lat_max)\n",
    "x_min_y_min = util.wgs84_to_mercator(lon_min,lat_min)\n",
    "x_max_y_max = util.wgs84_to_mercator(lon_max,lat_max)"
   ],
   "metadata": {
    "collapsed": false,
    "ExecuteTime": {
     "end_time": "2024-12-30T15:17:26.485439400Z",
     "start_time": "2024-12-30T15:17:23.944683500Z"
    }
   }
  },
  {
   "cell_type": "code",
   "execution_count": 16,
   "outputs": [
    {
     "name": "stdout",
     "output_type": "stream",
     "text": [
      "4521 2319\n"
     ]
    },
    {
     "name": "stderr",
     "output_type": "stream",
     "text": [
      "100%|██████████| 1040274/1040274 [00:04<00:00, 235434.93it/s]\n"
     ]
    },
    {
     "name": "stdout",
     "output_type": "stream",
     "text": [
      "8837\n",
      "8837\n"
     ]
    }
   ],
   "source": [
    "# 创建网格，将网格四个点映射为mercator坐标，获得四个点坐标，右经度-左经度获得长度，长度/k,向上取整，得到网格的横的数量\n",
    "# 同理得到网格竖的数量，创建grids[]，将点映射到网格时，以左下角为准，比如说一个点属于网格[i][j],以左下角为准\n",
    "\n",
    "rows,cols = get_grids_i_j(x_min_y_min,x_max_y_max,k)\n",
    "print(rows,cols)\n",
    "\n",
    "grids = [[Grid() for _ in range(cols)] for _ in range(rows)]\n",
    "\n",
    "# 遍历上下车点，将其映射到grid，添加进grid\n",
    "for pickup_point in tqdm(pickup_points) :\n",
    "    i,j = get_i_j_of_pickup_point(x_min_y_min,x_max_y_max,k,pickup_point)\n",
    "    grids[i][j].pickup_points.append(pickup_point)\n",
    "\n",
    "\n",
    "\n",
    "# pickup_points = []\n",
    "\n",
    "\n",
    "\n",
    "# 计算每个grid的点数量，超过lameda就计算平均位置，记录index\n",
    "G = {}\n",
    "count_hot_point = 0\n",
    "for row in range(rows):\n",
    "    for col in range(cols) :\n",
    "        if len(grids[row][col].pickup_points) > lameda:\n",
    "            # 计算平均位置\n",
    "            grids[row][col].locating_of_grid = get_Grid_locating_point(grids[row][col])\n",
    "\n",
    "            G[count_hot_point] = [row,col]\n",
    "            count_hot_point += 1\n",
    "\n",
    "            # grid_index.append([[row,col], len(grids[row][col].pickup_points)])\n",
    "\n",
    "\n",
    "print(count_hot_point)\n",
    "print(len(G))"
   ],
   "metadata": {
    "collapsed": false,
    "ExecuteTime": {
     "end_time": "2024-12-30T15:18:46.842199400Z",
     "start_time": "2024-12-30T15:17:26.484438800Z"
    }
   }
  },
  {
   "cell_type": "code",
   "execution_count": 17,
   "outputs": [],
   "source": [
    "# for value in G.values():\n",
    "#     print(value)\n",
    "outputfile = \"file_grid_locate_1.txt\"\n",
    "with open(outputfile, mode='w', encoding='utf-8') as f:\n",
    "    for point in G.values():\n",
    "        f.write(str(grids[point[0]][point[1]].locating_of_grid) + \"\\n\")"
   ],
   "metadata": {
    "collapsed": false,
    "ExecuteTime": {
     "end_time": "2024-12-30T15:18:47.227929100Z",
     "start_time": "2024-12-30T15:18:47.023552600Z"
    }
   }
  },
  {
   "cell_type": "code",
   "execution_count": 18,
   "outputs": [],
   "source": [
    "# count = 0\n",
    "# O= []\n",
    "# while G:\n",
    "#     hot_district = []\n",
    "#     key,index = next(iter(G.items()))# 获得G中的一个元素\n",
    "#     hot_district.append(index)\n",
    "#     # hot_district.append(grids[index[0]][index[1]].locating_of_grid)\n",
    "#     del G[key]\n",
    "#     keys_to_remove = []\n",
    "#     if G:\n",
    "#         for key1,g in G.items():\n",
    "#             for h in hot_district:\n",
    "#                 pointa = grids[g[0]][g[1]].locating_of_grid\n",
    "#                 pointb = grids[h[0]][h[1]].locating_of_grid\n",
    "#                 if Distance(pointa,pointb) < fai*k :\n",
    "#                     hot_district.append(pointa)\n",
    "#                     keys_to_remove.append(key1)\n",
    "#                     break\n",
    "#         for key in keys_to_remove:\n",
    "#             del G[key]\n",
    "#     O.append(hot_district)\n",
    "#     count += 1\n",
    "#\n",
    "# for hot_district in O:\n",
    "#     print(hot_district)"
   ],
   "metadata": {
    "collapsed": false,
    "ExecuteTime": {
     "end_time": "2024-12-30T15:18:47.327627800Z",
     "start_time": "2024-12-30T15:18:47.255742600Z"
    }
   }
  },
  {
   "cell_type": "code",
   "execution_count": 19,
   "outputs": [],
   "source": [
    "# count = 0\n",
    "# O = []\n",
    "#\n",
    "# while G:\n",
    "#     hot_district = []\n",
    "#\n",
    "#     # 获取字典中的第一个元素\n",
    "#     key, index_of_a_grid = next(iter(G.items()))\n",
    "#     hot_district.append(index_of_a_grid)\n",
    "#     del G[key]\n",
    "#\n",
    "#     # 创建待删除的键列表，避免并发修改字典\n",
    "#     keys_to_remove = []\n",
    "#\n",
    "#     print(f\"1.{len(G)}\")\n",
    "#\n",
    "#     if G:\n",
    "#         for key1, g in G.items():\n",
    "#             for h in hot_district:\n",
    "#                 pointa = grids[g[0]][g[1]].locating_of_grid\n",
    "#                 pointb = grids[h[0]][h[1]].locating_of_grid\n",
    "#                 if Distance_of_two_points(pointa, pointb) < fai*k:\n",
    "#                     hot_district.append(g)\n",
    "#                     keys_to_remove.append(key1)\n",
    "#\n",
    "#         # 删除符合条件的键\n",
    "#         for key in keys_to_remove:\n",
    "#             del G[key]\n",
    "#\n",
    "#     # 保存当前分组\n",
    "#     O.append(hot_district)\n",
    "#     count += 1\n",
    "#\n",
    "#     print(f\"2.{len(G)}\")\n",
    "#     print(\"--------------------\")\n",
    "#\n",
    "# # 输出分组结果\n",
    "# print(count)\n",
    "# for hot_district in O:\n",
    "#     print(hot_district)\n"
   ],
   "metadata": {
    "collapsed": false
   }
  },
  {
   "cell_type": "code",
   "execution_count": 20,
   "outputs": [],
   "source": [
    "# for value in G.values():\n",
    "#     print(value)"
   ],
   "metadata": {
    "collapsed": false
   }
  },
  {
   "cell_type": "code",
   "execution_count": 21,
   "outputs": [],
   "source": [
    "# O = []\n",
    "#\n",
    "# while G:\n",
    "#     hot_district = []\n",
    "#\n",
    "#     # 获取字典中的第一个元素\n",
    "#     key, index_of_a_grid = next(iter(G.items()))\n",
    "#     hot_district.append(index_of_a_grid)\n",
    "#     del G[key]\n",
    "#\n",
    "#     # 创建待删除的键列表，避免并发修改字典\n",
    "#     keys_to_remove = []\n",
    "#\n",
    "#     # print(f\"1.{len(G)}\")\n",
    "#\n",
    "#     if G:\n",
    "#         for key1, g in G.items():\n",
    "#             for h in hot_district:\n",
    "#                 pointa = grids[g[0]][g[1]].locating_of_grid\n",
    "#                 pointb = grids[h[0]][h[1]].locating_of_grid\n",
    "#                 if Distance_of_two_points(pointa, pointb) < fai*k:\n",
    "#                     hot_district.append(g)\n",
    "#                     keys_to_remove.append(key1)\n",
    "#                     break\n",
    "#\n",
    "#         # 删除符合条件的键\n",
    "#         for key in keys_to_remove:\n",
    "#             del G[key]\n",
    "#\n",
    "#     # 保存当前分组\n",
    "#     O.append(hot_district)\n",
    "#     count += 1\n",
    "#\n",
    "#     # print(f\"2.{len(G)}\")\n",
    "#     # print(\"--------------------\")\n",
    "#\n",
    "# # 输出分组结果\n",
    "# print(count)\n",
    "# for hot_district in O:\n",
    "#     print(hot_district)"
   ],
   "metadata": {
    "collapsed": false,
    "ExecuteTime": {
     "end_time": "2024-12-30T15:18:47.378574200Z",
     "start_time": "2024-12-30T15:18:47.368571Z"
    }
   }
  }
 ],
 "metadata": {
  "kernelspec": {
   "display_name": "Python 3",
   "language": "python",
   "name": "python3"
  },
  "language_info": {
   "codemirror_mode": {
    "name": "ipython",
    "version": 2
   },
   "file_extension": ".py",
   "mimetype": "text/x-python",
   "name": "python",
   "nbconvert_exporter": "python",
   "pygments_lexer": "ipython2",
   "version": "2.7.6"
  }
 },
 "nbformat": 4,
 "nbformat_minor": 0
}

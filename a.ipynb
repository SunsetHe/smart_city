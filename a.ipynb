{
 "cells": [
  {
   "cell_type": "code",
   "execution_count": 1,
   "metadata": {
    "collapsed": true,
    "ExecuteTime": {
     "end_time": "2024-11-25T18:55:52.989929200Z",
     "start_time": "2024-11-25T18:55:51.816151400Z"
    }
   },
   "outputs": [],
   "source": [
    "import math\n",
    "import sys\n",
    "from datetime import datetime\n",
    "import os\n",
    "import csv\n",
    "from tqdm import tqdm\n",
    "import re\n",
    "from some_func import util"
   ]
  },
  {
   "cell_type": "code",
   "execution_count": 2,
   "outputs": [],
   "source": [
    "# 网格类\n",
    "class Grid:\n",
    "    def __init__(self):\n",
    "        self.pickup_points = []  # 位于当前网格的定位点\n",
    "        self.locating_of_grid = [] # 网格的位置，里面所有点的经纬度平均"
   ],
   "metadata": {
    "collapsed": false,
    "ExecuteTime": {
     "end_time": "2024-11-25T18:55:52.992930200Z",
     "start_time": "2024-11-25T18:55:52.989929200Z"
    }
   }
  },
  {
   "cell_type": "code",
   "execution_count": 3,
   "outputs": [],
   "source": [
    "\n",
    "def Distance(pointa,pointb):\n",
    "    distance = 0\n",
    "    # todo\n",
    "    return distance"
   ],
   "metadata": {
    "collapsed": false,
    "ExecuteTime": {
     "end_time": "2024-11-25T18:55:52.998930600Z",
     "start_time": "2024-11-25T18:55:52.990929700Z"
    }
   }
  },
  {
   "cell_type": "code",
   "execution_count": 4,
   "outputs": [],
   "source": [
    "def get_pickup_point(traj_data: dict):\n",
    "    \"\"\"\n",
    "\n",
    "    Args:\n",
    "        traj_data: 轨迹数据\n",
    "\n",
    "\n",
    "    Returns:上下车的点的定位点\n",
    "\n",
    "    \"\"\"\n",
    "    pickup_point_list = []\n",
    "    for key,value in tqdm(traj_data.items()):\n",
    "        # pickup_point_index = []\n",
    "        coordinates = value[1]\n",
    "        status_list = value[2]\n",
    "        for i in range(1,len(coordinates)):\n",
    "            if status_list[i] != status_list[i-1]:\n",
    "                pickup_point_list.append(coordinates[i])\n",
    "\n",
    "    return pickup_point_list"
   ],
   "metadata": {
    "collapsed": false,
    "ExecuteTime": {
     "end_time": "2024-11-25T18:55:53.009600300Z",
     "start_time": "2024-11-25T18:55:52.999930400Z"
    }
   }
  },
  {
   "cell_type": "code",
   "execution_count": 5,
   "outputs": [],
   "source": [
    "def load_data():# data:key->taxi_id,value->[[time],[coordinates(not mercator)],[status]],\n",
    "    data = {}\n",
    "    lon_min = 180\n",
    "    lon_max = 0\n",
    "    lat_min = 90\n",
    "    lat_max = 0\n",
    "\n",
    "    file_need_remove = []\n",
    "    file_need_stay = []\n",
    "    traj_folder = os.path.join(os.getcwd(), \"traj\")\n",
    "    for file_name in tqdm(os.listdir(traj_folder)) :\n",
    "        if file_name.startswith(\"traj_\") and file_name.endswith(\".csv\"):\n",
    "            match = re.search(r\"traj_(\\d+)\\.csv\", file_name)\n",
    "            taxi_id = match.group(1)\n",
    "            file_path = os.path.join(traj_folder, file_name)\n",
    "            # data_illegal_count = 0\n",
    "\n",
    "            time_list = []\n",
    "            coordinates = []\n",
    "            status_list = []\n",
    "\n",
    "            if_use_this_data  = True\n",
    "\n",
    "            with open(file_path, mode='r', encoding='utf-8') as csv_file:\n",
    "                csv_reader = csv.DictReader(csv_file)\n",
    "                for row in csv_reader:\n",
    "                    ID = int(row['ID'])\n",
    "                    time_str = row['Time']\n",
    "                    time = datetime.strptime(time_str, \"%H:%M:%S\").time()  # 转换为 time 对象\n",
    "                    longitude = float(row['Longitude'])\n",
    "                    latitude = float(row['Latitude'])\n",
    "                    status = int(row['Status'])\n",
    "\n",
    "                    # 检测到非法数据就弃用该出租车的数据\n",
    "                    if not (113 < longitude < 114.6):\n",
    "                        if_use_this_data  = False\n",
    "                        break\n",
    "                    if not (22.1 < latitude < 22.7):\n",
    "                        if_use_this_data  = False\n",
    "                        break\n",
    "                    if status != 1 and status != 0 :\n",
    "                        if_use_this_data  = False\n",
    "                        break\n",
    "\n",
    "\n",
    "                    time_list.append(time)\n",
    "                    coordinates.append([longitude,latitude])\n",
    "                    status_list.append(status)\n",
    "\n",
    "\n",
    "                    # lon_min = min(lon_min,longitude)\n",
    "                    # lon_max = max(lon_max,longitude)\n",
    "                    # lat_min = min(lat_min,latitude)\n",
    "                    # lat_max = max(lat_max,latitude)\n",
    "\n",
    "                    # data.setdefault(ID, [[], [], []])\n",
    "                    # data[ID][0].append(time)\n",
    "                    # data[ID][1].append([longitude,latitude])\n",
    "                    # data[ID][1].append(util.mercator_to_wgs84(longitude, latitude))\n",
    "                    # data[ID][2].append(status)\n",
    "                    # print(ID)\n",
    "                    # print(time,type(time))\n",
    "                    # print([longitude, latitude])\n",
    "                    # print(status,type(status))\n",
    "                    # print(\"----------------------\")\n",
    "\n",
    "            if if_use_this_data:\n",
    "                data[taxi_id] = [time_list,coordinates,status_list]\n",
    "                lon_min = min(lon_min,min(coord[0] for coord in coordinates))\n",
    "                lon_max = max(lon_max,max(coord[0] for coord in coordinates))\n",
    "                lat_min = min(lat_min,min(coord[1] for coord in coordinates))\n",
    "                lat_max = max(lat_max,max(coord[1] for coord in coordinates))\n",
    "                file_need_stay.append(file_name)\n",
    "            else:\n",
    "                file_need_remove.append(file_name)\n",
    "\n",
    "\n",
    "                # if data_illegal_count > 2:\n",
    "                #     file_need_remove.append(file_name)\n",
    "    outputfile = \"file_need_stay.txt\"\n",
    "    print(len(file_need_stay))\n",
    "    with open(outputfile, mode='w', encoding='utf-8') as f:\n",
    "        for filename in file_need_stay:\n",
    "            f.write(filename + \"\\n\")  # 每个文件名写入一行\n",
    "    outputfile = \"file_need_remove.txt\"\n",
    "    with open(outputfile, mode='w', encoding='utf-8') as f:\n",
    "        for filename in file_need_remove:\n",
    "            f.write(filename + \"\\n\")  # 每个文件名写入一行\n",
    "    return data,[lon_min,lon_max,lat_min,lat_max]"
   ],
   "metadata": {
    "collapsed": false,
    "ExecuteTime": {
     "end_time": "2024-11-25T18:55:53.062437800Z",
     "start_time": "2024-11-25T18:55:53.017601800Z"
    }
   }
  },
  {
   "cell_type": "code",
   "execution_count": 6,
   "outputs": [],
   "source": [
    "# 根据经纬度最大小值以及网格大小确定区域被分为rows*cols数量的网格\n",
    "def get_grids_i_j(x_min_y_min_mercator,x_max_y_max_mercator,grid_size):\n",
    "    x_length = x_max_y_max_mercator[0] - x_min_y_min_mercator[0]\n",
    "    y_length = x_max_y_max_mercator[1] - x_min_y_min_mercator[1]\n",
    "    cols = math.ceil(x_length / grid_size)\n",
    "    rows = math.ceil(y_length / grid_size)\n",
    "    return cols,rows"
   ],
   "metadata": {
    "collapsed": false,
    "ExecuteTime": {
     "end_time": "2024-11-25T18:55:53.062437800Z",
     "start_time": "2024-11-25T18:55:53.024674400Z"
    }
   }
  },
  {
   "cell_type": "code",
   "execution_count": 7,
   "outputs": [],
   "source": [
    "# 获得一个上下车点在区域中所在网格的索引\n",
    "def get_i_j_of_pickup_point(x_min_y_min_mercator,x_max_y_max_mercator,grid_size,pickup_point):\n",
    "    pickup_point_mercator = util.wgs84_to_mercator(pickup_point[0],pickup_point[1])\n",
    "    x_dis = pickup_point_mercator[0] - x_min_y_min_mercator[0]\n",
    "    y_dis = pickup_point_mercator[1] - x_min_y_min_mercator[1]\n",
    "    i = math.floor(x_dis / grid_size)\n",
    "    j = math.floor(y_dis / grid_size)\n",
    "    # 检查边界是否超出区域\n",
    "    if i < 0 or j < 0 or pickup_point_mercator[0] > x_max_y_max_mercator[0] or pickup_point_mercator[1] > x_max_y_max_mercator[1]:\n",
    "        raise ValueError(\"Pickup point is outside the grid region.\")\n",
    "    return i,j"
   ],
   "metadata": {
    "collapsed": false,
    "ExecuteTime": {
     "end_time": "2024-11-25T18:55:53.063437800Z",
     "start_time": "2024-11-25T18:55:53.031849600Z"
    }
   }
  },
  {
   "cell_type": "code",
   "execution_count": 8,
   "outputs": [],
   "source": [
    "# 参数\n",
    "\n",
    "# lon经度 lat纬度\n",
    "# x,y mercator\n",
    "\n",
    "\n",
    "k = 20# 网格的大小，单位为米\n",
    "lameda = 0# 网格密度阈值\n",
    "fai = 1.3 # 定义9里面那个参数"
   ],
   "metadata": {
    "collapsed": false,
    "ExecuteTime": {
     "end_time": "2024-11-25T18:55:53.063437800Z",
     "start_time": "2024-11-25T18:55:53.039048800Z"
    }
   }
  },
  {
   "cell_type": "code",
   "execution_count": 9,
   "outputs": [
    {
     "name": "stderr",
     "output_type": "stream",
     "text": [
      "100%|██████████| 8974/8974 [04:51<00:00, 30.74it/s]"
     ]
    },
    {
     "name": "stdout",
     "output_type": "stream",
     "text": [
      "8974\n",
      "[113.310249, 114.567619, 22.157217, 22.699966]\n"
     ]
    },
    {
     "name": "stderr",
     "output_type": "stream",
     "text": [
      "\n"
     ]
    }
   ],
   "source": [
    "traj_data,district = load_data()\n",
    "print(district)\n"
   ],
   "metadata": {
    "collapsed": false,
    "ExecuteTime": {
     "end_time": "2024-11-25T19:00:45.458490100Z",
     "start_time": "2024-11-25T18:55:53.046435Z"
    }
   }
  },
  {
   "cell_type": "code",
   "execution_count": 10,
   "outputs": [],
   "source": [
    "# # 这段是拿来把原本的traj文件夹里面的数据分割成两部分的，不用管\n",
    "#\n",
    "#\n",
    "#\n",
    "#\n",
    "# import os\n",
    "# import shutil\n",
    "#\n",
    "# # 定义路径\n",
    "# current_dir = os.getcwd()  # 获取当前目录\n",
    "# traj_folder = os.path.join(current_dir, \"traj\")\n",
    "# traj_remove_folder = os.path.join(current_dir, \"traj_remove\")\n",
    "# file_need_remove = os.path.join(current_dir, \"file_need_remove.txt\")\n",
    "#\n",
    "# # 创建 traj_remove 文件夹（如果不存在）\n",
    "# if not os.path.exists(traj_remove_folder):\n",
    "#     os.makedirs(traj_remove_folder)\n",
    "#\n",
    "# # 读取 file_need_remove.txt\n",
    "# if os.path.exists(file_need_remove):\n",
    "#     with open(file_need_remove, mode=\"r\", encoding=\"utf-8\") as f:\n",
    "#         filenames = [line.strip() for line in f.readlines() if line.strip()]\n",
    "# else:\n",
    "#     print(f\"文件 {file_need_remove} 不存在！\")\n",
    "#     exit(1)\n",
    "#\n",
    "# # 移动文件\n",
    "# for filename in filenames:\n",
    "#     source_path = os.path.join(traj_folder, filename)\n",
    "#     target_path = os.path.join(traj_remove_folder, filename)\n",
    "#\n",
    "#     if os.path.exists(source_path):\n",
    "#         shutil.move(source_path, target_path)  # 移动文件\n",
    "#         print(f\"已移动: {filename}\")\n",
    "#     else:\n",
    "#         print(f\"文件 {filename} 不存在于 {traj_folder} 中！\")\n",
    "#\n",
    "# print(\"处理完成。\")"
   ],
   "metadata": {
    "collapsed": false,
    "ExecuteTime": {
     "end_time": "2024-11-25T19:00:45.463484400Z",
     "start_time": "2024-11-25T19:00:45.455625300Z"
    }
   }
  },
  {
   "cell_type": "markdown",
   "source": [
    "记录，第一次\n",
    "```\n",
    "if not (113 < longitude < 114.6):\n",
    "    if_use_this_data  = False\n",
    "    break\n",
    "if not (22.1 < latitude < 22.7):\n",
    "    if_use_this_data  = False\n",
    "    break\n",
    "```\n",
    "8975条轨迹被保留\n",
    "5753条轨迹被移除\n",
    "[113.310249, 114.567619, 22.157217, 22.699966]"
   ],
   "metadata": {
    "collapsed": false
   }
  },
  {
   "cell_type": "markdown",
   "source": [
    "记录，第二次\n",
    "```\n",
    "if not (113.4 < longitude < 114.4):\n",
    "    if_use_this_data  = False\n",
    "    break\n",
    "if not (22.15 < latitude < 22.6):\n",
    "    if_use_this_data  = False\n",
    "    break\n",
    "```\n",
    "184条轨迹被保留\n",
    "14544条轨迹被移除\n"
   ],
   "metadata": {
    "collapsed": false
   }
  },
  {
   "cell_type": "code",
   "execution_count": 11,
   "outputs": [
    {
     "name": "stdout",
     "output_type": "stream",
     "text": [
      "27983746\n"
     ]
    }
   ],
   "source": [
    "count = 0\n",
    "for key,value in traj_data.items():\n",
    "    count += len(value[1])\n",
    "print(count)"
   ],
   "metadata": {
    "collapsed": false,
    "ExecuteTime": {
     "end_time": "2024-11-25T19:00:45.475011900Z",
     "start_time": "2024-11-25T19:00:45.460484Z"
    }
   }
  },
  {
   "cell_type": "code",
   "execution_count": 12,
   "outputs": [
    {
     "name": "stderr",
     "output_type": "stream",
     "text": [
      "100%|██████████| 8974/8974 [00:01<00:00, 4970.76it/s]"
     ]
    },
    {
     "name": "stdout",
     "output_type": "stream",
     "text": [
      "698293\n"
     ]
    },
    {
     "name": "stderr",
     "output_type": "stream",
     "text": [
      "\n"
     ]
    }
   ],
   "source": [
    "pickup_points = get_pickup_point(traj_data)\n",
    "print(len(pickup_points))"
   ],
   "metadata": {
    "collapsed": false,
    "ExecuteTime": {
     "end_time": "2024-11-25T19:00:47.296607900Z",
     "start_time": "2024-11-25T19:00:45.474011700Z"
    }
   }
  },
  {
   "cell_type": "code",
   "execution_count": 13,
   "outputs": [],
   "source": [
    "# 这里可以做个上下车点可视化\n",
    "\n"
   ],
   "metadata": {
    "collapsed": false,
    "ExecuteTime": {
     "end_time": "2024-11-25T19:00:47.296607900Z",
     "start_time": "2024-11-25T19:00:47.285357600Z"
    }
   }
  },
  {
   "cell_type": "code",
   "execution_count": 14,
   "outputs": [
    {
     "name": "stdout",
     "output_type": "stream",
     "text": [
      "113.310249 114.567215 22.157217 22.699949\n"
     ]
    }
   ],
   "source": [
    "# 才发现网格的lon_max啥的是上下车点的lon_max,\n",
    "lon_min = min([pickup_point[0] for pickup_point in pickup_points])\n",
    "lon_max = max([pickup_point[0] for pickup_point in pickup_points])\n",
    "lat_min = min([pickup_point[1] for pickup_point in pickup_points])\n",
    "lat_max = max([pickup_point[1] for pickup_point in pickup_points])\n",
    "print(lon_min,lon_max,lat_min,lat_max)\n",
    "x_min_y_min = util.wgs84_to_mercator(lon_min,lat_min)\n",
    "x_max_y_max = util.wgs84_to_mercator(lon_max,lat_max)"
   ],
   "metadata": {
    "collapsed": false,
    "ExecuteTime": {
     "end_time": "2024-11-25T19:00:48.441388200Z",
     "start_time": "2024-11-25T19:00:47.290604700Z"
    }
   }
  },
  {
   "cell_type": "code",
   "execution_count": 15,
   "outputs": [
    {
     "name": "stdout",
     "output_type": "stream",
     "text": [
      "6997 3269\n"
     ]
    },
    {
     "ename": "KeyboardInterrupt",
     "evalue": "",
     "output_type": "error",
     "traceback": [
      "\u001B[1;31m---------------------------------------------------------------------------\u001B[0m",
      "\u001B[1;31mKeyboardInterrupt\u001B[0m                         Traceback (most recent call last)",
      "    \u001B[1;31m[... skipping hidden 1 frame]\u001B[0m\n",
      "Cell \u001B[1;32mIn[15], line 7\u001B[0m\n\u001B[0;32m      5\u001B[0m \u001B[38;5;28mprint\u001B[39m(rows,cols)\n\u001B[1;32m----> 7\u001B[0m grids \u001B[38;5;241m=\u001B[39m \u001B[43m[\u001B[49m\u001B[43m[\u001B[49m\u001B[43mGrid\u001B[49m\u001B[43m(\u001B[49m\u001B[43m)\u001B[49m\u001B[43m \u001B[49m\u001B[38;5;28;43;01mfor\u001B[39;49;00m\u001B[43m \u001B[49m\u001B[43m_\u001B[49m\u001B[43m \u001B[49m\u001B[38;5;129;43;01min\u001B[39;49;00m\u001B[43m \u001B[49m\u001B[38;5;28;43mrange\u001B[39;49m\u001B[43m(\u001B[49m\u001B[43mcols\u001B[49m\u001B[43m)\u001B[49m\u001B[43m]\u001B[49m\u001B[43m \u001B[49m\u001B[38;5;28;43;01mfor\u001B[39;49;00m\u001B[43m \u001B[49m\u001B[43m_\u001B[49m\u001B[43m \u001B[49m\u001B[38;5;129;43;01min\u001B[39;49;00m\u001B[43m \u001B[49m\u001B[38;5;28;43mrange\u001B[39;49m\u001B[43m(\u001B[49m\u001B[43mrows\u001B[49m\u001B[43m)\u001B[49m\u001B[43m]\u001B[49m\n\u001B[0;32m      9\u001B[0m \u001B[38;5;66;03m# 遍历上下车点，将其映射到grid，添加进grid\u001B[39;00m\n",
      "Cell \u001B[1;32mIn[15], line 7\u001B[0m, in \u001B[0;36m<listcomp>\u001B[1;34m(.0)\u001B[0m\n\u001B[0;32m      5\u001B[0m \u001B[38;5;28mprint\u001B[39m(rows,cols)\n\u001B[1;32m----> 7\u001B[0m grids \u001B[38;5;241m=\u001B[39m [\u001B[43m[\u001B[49m\u001B[43mGrid\u001B[49m\u001B[43m(\u001B[49m\u001B[43m)\u001B[49m\u001B[43m \u001B[49m\u001B[38;5;28;43;01mfor\u001B[39;49;00m\u001B[43m \u001B[49m\u001B[43m_\u001B[49m\u001B[43m \u001B[49m\u001B[38;5;129;43;01min\u001B[39;49;00m\u001B[43m \u001B[49m\u001B[38;5;28;43mrange\u001B[39;49m\u001B[43m(\u001B[49m\u001B[43mcols\u001B[49m\u001B[43m)\u001B[49m\u001B[43m]\u001B[49m \u001B[38;5;28;01mfor\u001B[39;00m _ \u001B[38;5;129;01min\u001B[39;00m \u001B[38;5;28mrange\u001B[39m(rows)]\n\u001B[0;32m      9\u001B[0m \u001B[38;5;66;03m# 遍历上下车点，将其映射到grid，添加进grid\u001B[39;00m\n",
      "Cell \u001B[1;32mIn[15], line 7\u001B[0m, in \u001B[0;36m<listcomp>\u001B[1;34m(.0)\u001B[0m\n\u001B[0;32m      5\u001B[0m \u001B[38;5;28mprint\u001B[39m(rows,cols)\n\u001B[1;32m----> 7\u001B[0m grids \u001B[38;5;241m=\u001B[39m [[\u001B[43mGrid\u001B[49m\u001B[43m(\u001B[49m\u001B[43m)\u001B[49m \u001B[38;5;28;01mfor\u001B[39;00m _ \u001B[38;5;129;01min\u001B[39;00m \u001B[38;5;28mrange\u001B[39m(cols)] \u001B[38;5;28;01mfor\u001B[39;00m _ \u001B[38;5;129;01min\u001B[39;00m \u001B[38;5;28mrange\u001B[39m(rows)]\n\u001B[0;32m      9\u001B[0m \u001B[38;5;66;03m# 遍历上下车点，将其映射到grid，添加进grid\u001B[39;00m\n",
      "\u001B[1;31mKeyboardInterrupt\u001B[0m: ",
      "\nDuring handling of the above exception, another exception occurred:\n",
      "\u001B[1;31mKeyboardInterrupt\u001B[0m                         Traceback (most recent call last)",
      "    \u001B[1;31m[... skipping hidden 1 frame]\u001B[0m\n",
      "File \u001B[1;32mD:\\anaconda\\envs\\pytorch\\Lib\\site-packages\\IPython\\core\\interactiveshell.py:2067\u001B[0m, in \u001B[0;36mInteractiveShell.showtraceback\u001B[1;34m(self, exc_tuple, filename, tb_offset, exception_only, running_compiled_code)\u001B[0m\n\u001B[0;32m   2064\u001B[0m     msg \u001B[38;5;241m=\u001B[39m traceback\u001B[38;5;241m.\u001B[39mformat_exception_only(etype, value)\n\u001B[0;32m   2065\u001B[0m     \u001B[38;5;28;01mreturn\u001B[39;00m \u001B[38;5;124m'\u001B[39m\u001B[38;5;124m'\u001B[39m\u001B[38;5;241m.\u001B[39mjoin(msg)\n\u001B[1;32m-> 2067\u001B[0m \u001B[38;5;28;01mdef\u001B[39;00m \u001B[38;5;21mshowtraceback\u001B[39m(\u001B[38;5;28mself\u001B[39m, exc_tuple\u001B[38;5;241m=\u001B[39m\u001B[38;5;28;01mNone\u001B[39;00m, filename\u001B[38;5;241m=\u001B[39m\u001B[38;5;28;01mNone\u001B[39;00m, tb_offset\u001B[38;5;241m=\u001B[39m\u001B[38;5;28;01mNone\u001B[39;00m,\n\u001B[0;32m   2068\u001B[0m                   exception_only\u001B[38;5;241m=\u001B[39m\u001B[38;5;28;01mFalse\u001B[39;00m, running_compiled_code\u001B[38;5;241m=\u001B[39m\u001B[38;5;28;01mFalse\u001B[39;00m):\n\u001B[0;32m   2069\u001B[0m \u001B[38;5;250m    \u001B[39m\u001B[38;5;124;03m\"\"\"Display the exception that just occurred.\u001B[39;00m\n\u001B[0;32m   2070\u001B[0m \n\u001B[0;32m   2071\u001B[0m \u001B[38;5;124;03m    If nothing is known about the exception, this is the method which\u001B[39;00m\n\u001B[1;32m   (...)\u001B[0m\n\u001B[0;32m   2077\u001B[0m \u001B[38;5;124;03m    SyntaxError exception, don't try to analyze the stack manually and\u001B[39;00m\n\u001B[0;32m   2078\u001B[0m \u001B[38;5;124;03m    simply call this method.\"\"\"\u001B[39;00m\n\u001B[0;32m   2080\u001B[0m     \u001B[38;5;28;01mtry\u001B[39;00m:\n",
      "\u001B[1;31mKeyboardInterrupt\u001B[0m: "
     ]
    }
   ],
   "source": [
    "# 创建网格，将网格四个点映射为mercator坐标，获得四个点坐标，右经度-左经度获得长度，长度/k,向上取整，得到网格的横的数量\n",
    "# 同理得到网格竖的数量，创建grids[]，将点映射到网格时，以左下角为准，比如说一个点属于网格[i][j],以左下角为准\n",
    "\n",
    "rows,cols = get_grids_i_j(x_min_y_min,x_max_y_max,k)\n",
    "print(rows,cols)\n",
    "\n",
    "grids = [[Grid() for _ in range(cols)] for _ in range(rows)]\n",
    "\n",
    "# 遍历上下车点，将其映射到grid，添加进grid\n",
    "for pickup_point in tqdm(pickup_points) :\n",
    "    i,j = get_i_j_of_pickup_point(x_min_y_min,x_max_y_max,k,pickup_point)\n",
    "    grids[i][j].pickup_points.append(pickup_point)\n",
    "\n",
    "# 计算每个grid的点数量，超过lameda就计算平均位置，记录index\n",
    "grid_index = []\n",
    "for row in range(rows):\n",
    "    for col in tqdm(range(cols)) :\n",
    "        if len(grids[row][col].pickup_points) > lameda:\n",
    "            # 计算平均位置\n",
    "            avg_x = sum(point[0] for point in pickup_points) / len(pickup_points)\n",
    "            avg_y = sum(point[1] for point in pickup_points) / len(pickup_points)\n",
    "            grids[row][col].locating_of_grid = [avg_x, avg_y]\n",
    "\n",
    "            grid_index.append([[row,col], len(grids[row][col].pickup_points)])\n",
    "\n",
    "grid_index.sort(key=lambda x: x[1], reverse=True)\n",
    "for value in grid_index:\n",
    "    print(value)\n",
    "\n"
   ],
   "metadata": {
    "collapsed": false,
    "ExecuteTime": {
     "end_time": "2024-11-25T19:01:25.292530100Z",
     "start_time": "2024-11-25T19:00:48.439388300Z"
    }
   }
  },
  {
   "cell_type": "code",
   "execution_count": null,
   "outputs": [],
   "source": [],
   "metadata": {
    "collapsed": false,
    "ExecuteTime": {
     "start_time": "2024-11-25T19:01:25.288528900Z"
    }
   }
  }
 ],
 "metadata": {
  "kernelspec": {
   "display_name": "Python 3",
   "language": "python",
   "name": "python3"
  },
  "language_info": {
   "codemirror_mode": {
    "name": "ipython",
    "version": 2
   },
   "file_extension": ".py",
   "mimetype": "text/x-python",
   "name": "python",
   "nbconvert_exporter": "python",
   "pygments_lexer": "ipython2",
   "version": "2.7.6"
  }
 },
 "nbformat": 4,
 "nbformat_minor": 0
}

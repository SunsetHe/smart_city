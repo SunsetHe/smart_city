{
 "cells": [
  {
   "cell_type": "code",
   "execution_count": 1,
   "metadata": {
    "collapsed": true,
    "ExecuteTime": {
     "end_time": "2024-11-24T12:58:45.649926400Z",
     "start_time": "2024-11-24T12:58:42.771918700Z"
    }
   },
   "outputs": [],
   "source": [
    "import sys\n",
    "from datetime import datetime\n",
    "import os\n",
    "import csv\n",
    "from tqdm import tqdm\n",
    "import re\n",
    "from some_func import util"
   ]
  },
  {
   "cell_type": "code",
   "execution_count": 2,
   "outputs": [],
   "source": [
    "class Grid:\n",
    "    def __init__(self):\n",
    "        locating_point = []  # 位于当前网格的定位点\n",
    "        locating_of_grid = [] # 网格的位置，里面所有点的经纬度平均"
   ],
   "metadata": {
    "collapsed": false,
    "ExecuteTime": {
     "end_time": "2024-11-24T12:58:45.655008300Z",
     "start_time": "2024-11-24T12:58:45.651503Z"
    }
   }
  },
  {
   "cell_type": "code",
   "execution_count": 3,
   "outputs": [],
   "source": [
    "def Distance(pointa,pointb):\n",
    "    distance = 0\n",
    "    # todo\n",
    "    return distance"
   ],
   "metadata": {
    "collapsed": false,
    "ExecuteTime": {
     "end_time": "2024-11-24T12:58:45.659036600Z",
     "start_time": "2024-11-24T12:58:45.655008300Z"
    }
   }
  },
  {
   "cell_type": "code",
   "execution_count": 4,
   "outputs": [],
   "source": [
    "def get_pickup_point(traj_data: dict):\n",
    "    \"\"\"\n",
    "\n",
    "    Args:\n",
    "        traj_data: 轨迹数据\n",
    "\n",
    "\n",
    "    Returns:上下车的点的定位点\n",
    "\n",
    "    \"\"\"\n",
    "    pickup_point_list = []\n",
    "    for key,value in tqdm(traj_data.items()):\n",
    "        # pickup_point_index = []\n",
    "        coordinates = value[1]\n",
    "        status_list = value[2]\n",
    "        for i in range(1,len(coordinates)):\n",
    "            if status_list[i] != status_list[i-1]:\n",
    "                pickup_point_list.append(coordinates[i])\n",
    "\n",
    "    return pickup_point_list"
   ],
   "metadata": {
    "collapsed": false,
    "ExecuteTime": {
     "end_time": "2024-11-24T12:58:45.663542300Z",
     "start_time": "2024-11-24T12:58:45.661038Z"
    }
   }
  },
  {
   "cell_type": "code",
   "execution_count": 5,
   "outputs": [],
   "source": [
    "def load_data():# data:key->taxi_id,value->[[time],[coordinates(not mercator)],[status]],\n",
    "    data = {}\n",
    "    lon_min = 180\n",
    "    lon_max = 0\n",
    "    lat_min = 90\n",
    "    lat_max = 0\n",
    "\n",
    "    file_need_remove = []\n",
    "    file_need_stay = []\n",
    "    traj_folder = os.path.join(os.getcwd(), \"traj\")\n",
    "    for file_name in tqdm(os.listdir(traj_folder)) :\n",
    "        if file_name.startswith(\"traj_\") and file_name.endswith(\".csv\"):\n",
    "            match = re.search(r\"traj_(\\d+)\\.csv\", file_name)\n",
    "            taxi_id = match.group(1)\n",
    "            file_path = os.path.join(traj_folder, file_name)\n",
    "            # data_illegal_count = 0\n",
    "\n",
    "            time_list = []\n",
    "            coordinates = []\n",
    "            status_list = []\n",
    "\n",
    "            if_use_this_data  = True\n",
    "\n",
    "            with open(file_path, mode='r', encoding='utf-8') as csv_file:\n",
    "                csv_reader = csv.DictReader(csv_file)\n",
    "                for row in csv_reader:\n",
    "                    ID = int(row['ID'])\n",
    "                    time_str = row['Time']\n",
    "                    time = datetime.strptime(time_str, \"%H:%M:%S\").time()  # 转换为 time 对象\n",
    "                    longitude = float(row['Longitude'])\n",
    "                    latitude = float(row['Latitude'])\n",
    "                    status = int(row['Status'])\n",
    "\n",
    "                    # 检测到非法数据就弃用该出租车的数据\n",
    "                    if not (113 < longitude < 114.6):\n",
    "                        if_use_this_data  = False\n",
    "                        break\n",
    "                    if not (22.1 < latitude < 22.7):\n",
    "                        if_use_this_data  = False\n",
    "                        break\n",
    "                    if status != 1 and status != 0 :\n",
    "                        if_use_this_data  = False\n",
    "                        break\n",
    "\n",
    "\n",
    "                    time_list.append(time)\n",
    "                    coordinates.append([longitude,latitude])\n",
    "                    status_list.append(status)\n",
    "\n",
    "\n",
    "                    # lon_min = min(lon_min,longitude)\n",
    "                    # lon_max = max(lon_max,longitude)\n",
    "                    # lat_min = min(lat_min,latitude)\n",
    "                    # lat_max = max(lat_max,latitude)\n",
    "\n",
    "                    # data.setdefault(ID, [[], [], []])\n",
    "                    # data[ID][0].append(time)\n",
    "                    # data[ID][1].append([longitude,latitude])\n",
    "                    # data[ID][1].append(util.mercator_to_wgs84(longitude, latitude))\n",
    "                    # data[ID][2].append(status)\n",
    "                    # print(ID)\n",
    "                    # print(time,type(time))\n",
    "                    # print([longitude, latitude])\n",
    "                    # print(status,type(status))\n",
    "                    # print(\"----------------------\")\n",
    "\n",
    "            if if_use_this_data:\n",
    "                data[taxi_id] = [time_list,coordinates,status_list]\n",
    "                lon_min = min(lon_min,min(coord[0] for coord in coordinates))\n",
    "                lon_max = max(lon_max,max(coord[0] for coord in coordinates))\n",
    "                lat_min = min(lat_min,min(coord[1] for coord in coordinates))\n",
    "                lat_max = max(lat_max,max(coord[1] for coord in coordinates))\n",
    "                file_need_stay.append(file_name)\n",
    "            else:\n",
    "                file_need_remove.append(file_name)\n",
    "\n",
    "\n",
    "                # if data_illegal_count > 2:\n",
    "                #     file_need_remove.append(file_name)\n",
    "    outputfile = \"file_need_stay.txt\"\n",
    "    print(len(file_need_stay))\n",
    "    with open(outputfile, mode='w', encoding='utf-8') as f:\n",
    "        for filename in file_need_stay:\n",
    "            f.write(filename + \"\\n\")  # 每个文件名写入一行\n",
    "    outputfile = \"file_need_remove.txt\"\n",
    "    with open(outputfile, mode='w', encoding='utf-8') as f:\n",
    "        for filename in file_need_remove:\n",
    "            f.write(filename + \"\\n\")  # 每个文件名写入一行\n",
    "    return data,[lon_min,lon_max,lat_min,lat_max]"
   ],
   "metadata": {
    "collapsed": false,
    "ExecuteTime": {
     "end_time": "2024-11-24T12:58:45.742828700Z",
     "start_time": "2024-11-24T12:58:45.664543300Z"
    }
   }
  },
  {
   "cell_type": "code",
   "execution_count": 6,
   "outputs": [],
   "source": [
    "# 参数\n",
    "\n",
    "# lon经度 lat纬度\n",
    "\n",
    "\n",
    "k = 20# 网格的大小，单位为米\n",
    "lameda = 0# 网格密度阈值\n",
    "fai = 1.3 # 定义9里面那个参数"
   ],
   "metadata": {
    "collapsed": false,
    "ExecuteTime": {
     "end_time": "2024-11-24T12:58:45.742828700Z",
     "start_time": "2024-11-24T12:58:45.677539300Z"
    }
   }
  },
  {
   "cell_type": "code",
   "execution_count": null,
   "outputs": [
    {
     "name": "stderr",
     "output_type": "stream",
     "text": [
      " 65%|██████▍   | 5820/8974 [02:54<01:04, 48.98it/s]"
     ]
    }
   ],
   "source": [
    "traj_data,district = load_data()\n",
    "print(district)\n"
   ],
   "metadata": {
    "collapsed": false,
    "is_executing": true,
    "ExecuteTime": {
     "start_time": "2024-11-24T12:58:45.680815800Z"
    }
   }
  },
  {
   "cell_type": "code",
   "execution_count": null,
   "outputs": [],
   "source": [
    "# # 这段是拿来把原本的traj文件夹里面的数据分割成两部分的，不用管\n",
    "#\n",
    "#\n",
    "#\n",
    "#\n",
    "# import os\n",
    "# import shutil\n",
    "#\n",
    "# # 定义路径\n",
    "# current_dir = os.getcwd()  # 获取当前目录\n",
    "# traj_folder = os.path.join(current_dir, \"traj\")\n",
    "# traj_remove_folder = os.path.join(current_dir, \"traj_remove\")\n",
    "# file_need_remove = os.path.join(current_dir, \"file_need_remove.txt\")\n",
    "#\n",
    "# # 创建 traj_remove 文件夹（如果不存在）\n",
    "# if not os.path.exists(traj_remove_folder):\n",
    "#     os.makedirs(traj_remove_folder)\n",
    "#\n",
    "# # 读取 file_need_remove.txt\n",
    "# if os.path.exists(file_need_remove):\n",
    "#     with open(file_need_remove, mode=\"r\", encoding=\"utf-8\") as f:\n",
    "#         filenames = [line.strip() for line in f.readlines() if line.strip()]\n",
    "# else:\n",
    "#     print(f\"文件 {file_need_remove} 不存在！\")\n",
    "#     exit(1)\n",
    "#\n",
    "# # 移动文件\n",
    "# for filename in filenames:\n",
    "#     source_path = os.path.join(traj_folder, filename)\n",
    "#     target_path = os.path.join(traj_remove_folder, filename)\n",
    "#\n",
    "#     if os.path.exists(source_path):\n",
    "#         shutil.move(source_path, target_path)  # 移动文件\n",
    "#         print(f\"已移动: {filename}\")\n",
    "#     else:\n",
    "#         print(f\"文件 {filename} 不存在于 {traj_folder} 中！\")\n",
    "#\n",
    "# print(\"处理完成。\")"
   ],
   "metadata": {
    "collapsed": false,
    "is_executing": true
   }
  },
  {
   "cell_type": "markdown",
   "source": [
    "记录，第一次\n",
    "```python\n",
    "if not (113 < longitude < 114.6):\n",
    "    if_use_this_data  = False\n",
    "    break\n",
    "if not (22.1 < latitude < 22.7):\n",
    "    if_use_this_data  = False\n",
    "    break\n",
    "```\n",
    "8975条轨迹被保留\n",
    "5753条轨迹被移除\n",
    "[113.310249, 114.567619, 22.157217, 22.699966]"
   ],
   "metadata": {
    "collapsed": false
   }
  },
  {
   "cell_type": "markdown",
   "source": [
    "记录，第二次\n",
    "```python\n",
    "if not (113.4 < longitude < 114.4):\n",
    "    if_use_this_data  = False\n",
    "    break\n",
    "if not (22.15 < latitude < 22.6):\n",
    "    if_use_this_data  = False\n",
    "    break\n",
    "```\n",
    "184条轨迹被保留\n",
    "14544条轨迹被移除\n"
   ],
   "metadata": {
    "collapsed": false
   }
  },
  {
   "cell_type": "code",
   "execution_count": null,
   "outputs": [],
   "source": [
    "count = 0\n",
    "for key,value in traj_data.items():\n",
    "    count += len(value[1])\n",
    "print(count)"
   ],
   "metadata": {
    "collapsed": false,
    "is_executing": true
   }
  },
  {
   "cell_type": "code",
   "execution_count": null,
   "outputs": [],
   "source": [
    "pickup_points = get_pickup_point(traj_data)\n",
    "print(len(pickup_points))"
   ],
   "metadata": {
    "collapsed": false,
    "is_executing": true
   }
  },
  {
   "cell_type": "code",
   "execution_count": null,
   "outputs": [],
   "source": [
    "# 这里可以做个上下车点可视化\n",
    "\n"
   ],
   "metadata": {
    "collapsed": false,
    "is_executing": true
   }
  },
  {
   "cell_type": "code",
   "execution_count": null,
   "outputs": [],
   "source": [
    "# 才发现网格的lon_max啥的是上下车点的lon_max,\n",
    "lon_min = min([pickup_point[0] for pickup_point in pickup_points])\n",
    "lon_max = max([pickup_point[0] for pickup_point in pickup_points])\n",
    "lat_min = min([pickup_point[1] for pickup_point in pickup_points])\n",
    "lat_max = max([pickup_point[1] for pickup_point in pickup_points])\n",
    "print(lon_min,lon_max,lat_min,lat_max)"
   ],
   "metadata": {
    "collapsed": false,
    "is_executing": true
   }
  },
  {
   "cell_type": "code",
   "execution_count": null,
   "outputs": [],
   "source": [
    "# 创建网格，将网格四个点映射为mercator坐标，获得四个点坐标，右经度-左经度获得长度，长度/k,向下取整，得到网格的横的数量\n",
    "# 同理得到网格竖的数量，创建grids[]，将点映射到网格时，以左下角为准，比如说一个点属于网格[i][j],以左下角为准\n",
    "\n",
    "\n",
    "\n",
    "\n",
    "\n",
    "# 遍历上下车点，将其映射到grid，添加进grid\n",
    "\n",
    "# 计算每个grid的点数量，超过lameda就计算平均位置，记录index"
   ],
   "metadata": {
    "collapsed": false,
    "is_executing": true
   }
  }
 ],
 "metadata": {
  "kernelspec": {
   "display_name": "Python 3",
   "language": "python",
   "name": "python3"
  },
  "language_info": {
   "codemirror_mode": {
    "name": "ipython",
    "version": 2
   },
   "file_extension": ".py",
   "mimetype": "text/x-python",
   "name": "python",
   "nbconvert_exporter": "python",
   "pygments_lexer": "ipython2",
   "version": "2.7.6"
  }
 },
 "nbformat": 4,
 "nbformat_minor": 0
}

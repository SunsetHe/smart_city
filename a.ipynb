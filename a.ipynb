{
 "cells": [
  {
   "cell_type": "code",
   "execution_count": 1,
   "metadata": {
    "collapsed": true,
    "ExecuteTime": {
     "end_time": "2024-11-23T09:14:08.993046100Z",
     "start_time": "2024-11-23T09:14:07.788697700Z"
    }
   },
   "outputs": [],
   "source": [
    "import sys\n",
    "from datetime import datetime\n",
    "import os\n",
    "import csv\n",
    "from tqdm import tqdm\n",
    "from some_func import util"
   ]
  },
  {
   "cell_type": "code",
   "execution_count": 2,
   "outputs": [],
   "source": [
    "class Grid:\n",
    "    def __init__(self):\n",
    "        locating_point = []  # 位于当前网格的定位点\n",
    "        locating_of_grid = [] # 网格的位置，里面所有点的经纬度平均"
   ],
   "metadata": {
    "collapsed": false,
    "ExecuteTime": {
     "end_time": "2024-11-23T09:14:08.998170800Z",
     "start_time": "2024-11-23T09:14:08.994023100Z"
    }
   }
  },
  {
   "cell_type": "code",
   "execution_count": 3,
   "outputs": [],
   "source": [
    "def Distance(pointa,pointb):\n",
    "    distance = 0\n",
    "    # todo\n",
    "    return distance"
   ],
   "metadata": {
    "collapsed": false,
    "ExecuteTime": {
     "end_time": "2024-11-23T09:14:09.002278500Z",
     "start_time": "2024-11-23T09:14:08.998170800Z"
    }
   }
  },
  {
   "cell_type": "code",
   "execution_count": 4,
   "outputs": [],
   "source": [
    "def load_data():# data:key->taxi_id,value->[[time],[coordinates(mercator)],[status]],\n",
    "    data = {}\n",
    "    lon_min = 180\n",
    "    lon_max = 0\n",
    "    lat_min = 90\n",
    "    lat_max = 0\n",
    "\n",
    "    traj_folder = os.path.join(os.getcwd(), \"traj\")\n",
    "    for file_name in tqdm(os.listdir(traj_folder)) :\n",
    "        if file_name.startswith(\"traj_\") and file_name.endswith(\".csv\"):\n",
    "            file_path = os.path.join(traj_folder, file_name)\n",
    "            with open(file_path, mode='r', encoding='utf-8') as csv_file:\n",
    "                csv_reader = csv.DictReader(csv_file)\n",
    "                for row in csv_reader:\n",
    "                    ID = int(row['ID'])\n",
    "\n",
    "                    time_str = row['Time']\n",
    "                    time = datetime.strptime(time_str, \"%H:%M:%S\").time()  # 转换为 time 对象\n",
    "\n",
    "                    longitude = float(row['Longitude'])\n",
    "                    if longitude > 180 or longitude < 0:\n",
    "                        # print(longitude)\n",
    "                        # print(file_name)\n",
    "                        # sys.exit()\n",
    "                        continue\n",
    "                    lon_min = min(lon_min,longitude)\n",
    "                    lon_max = max(lon_max,longitude)\n",
    "\n",
    "\n",
    "                    latitude = float(row['Latitude'])\n",
    "                    if latitude > 90 or latitude < 0:\n",
    "                        # print(latitude)\n",
    "                        # print(file_name)\n",
    "                        continue\n",
    "                    lat_min = min(lat_min,latitude)\n",
    "                    lat_max = max(lat_max,latitude)\n",
    "\n",
    "\n",
    "                    status = int(row['Status'])\n",
    "                    if status != 1 and status != 0 :\n",
    "                        continue\n",
    "\n",
    "                    data.setdefault(ID, [[], [], []])\n",
    "                    data[ID][0].append(time)\n",
    "                    data[ID][1].append([longitude,latitude])\n",
    "                    # data[ID][1].append(util.mercator_to_wgs84(longitude, latitude))\n",
    "                    data[ID][2].append(status)\n",
    "                    # print(ID)\n",
    "                    # print(time,type(time))\n",
    "                    # print([longitude, latitude])\n",
    "                    # print(status,type(status))\n",
    "                    # print(\"----------------------\")\n",
    "\n",
    "    return data,[lon_min,lon_max,lat_min,lat_max]"
   ],
   "metadata": {
    "collapsed": false,
    "ExecuteTime": {
     "end_time": "2024-11-23T09:14:09.011021400Z",
     "start_time": "2024-11-23T09:14:09.002278500Z"
    }
   }
  },
  {
   "cell_type": "code",
   "execution_count": 5,
   "outputs": [],
   "source": [
    "# 参数\n",
    "\n",
    "# lon经度 lat纬度\n",
    "\n",
    "\n",
    "k = 20# 网格的大小，单位为米\n",
    "lameda = 0# 网格密度阈值\n",
    "fai = 1.3 # 定义9里面那个参数"
   ],
   "metadata": {
    "collapsed": false,
    "ExecuteTime": {
     "end_time": "2024-11-23T09:14:09.020803Z",
     "start_time": "2024-11-23T09:14:09.011021400Z"
    }
   }
  },
  {
   "cell_type": "code",
   "execution_count": 6,
   "outputs": [
    {
     "name": "stderr",
     "output_type": "stream",
     "text": [
      "100%|██████████| 488/488 [00:15<00:00, 30.91it/s]"
     ]
    },
    {
     "name": "stdout",
     "output_type": "stream",
     "text": [
      "[108.933327, 123.340645, 20.611057, 28.004087]\n"
     ]
    },
    {
     "name": "stderr",
     "output_type": "stream",
     "text": [
      "\n"
     ]
    }
   ],
   "source": [
    "traj_data,district = load_data()\n",
    "\n",
    "print(district)"
   ],
   "metadata": {
    "collapsed": false,
    "ExecuteTime": {
     "end_time": "2024-11-23T09:14:24.833794600Z",
     "start_time": "2024-11-23T09:14:09.015917300Z"
    }
   }
  }
 ],
 "metadata": {
  "kernelspec": {
   "display_name": "Python 3",
   "language": "python",
   "name": "python3"
  },
  "language_info": {
   "codemirror_mode": {
    "name": "ipython",
    "version": 2
   },
   "file_extension": ".py",
   "mimetype": "text/x-python",
   "name": "python",
   "nbconvert_exporter": "python",
   "pygments_lexer": "ipython2",
   "version": "2.7.6"
  }
 },
 "nbformat": 4,
 "nbformat_minor": 0
}
